{
  "nbformat": 4,
  "nbformat_minor": 0,
  "metadata": {
    "colab": {
      "name": "Vine_Review_Analysis.ipynb",
      "provenance": [],
      "collapsed_sections": []
    },
    "kernelspec": {
      "name": "python3",
      "display_name": "Python 3"
    },
    "language_info": {
      "name": "python"
    }
  },
  "cells": [
    {
      "cell_type": "code",
      "execution_count": 1,
      "metadata": {
        "colab": {
          "base_uri": "https://localhost:8080/"
        },
        "id": "fAZy4KAReO2G",
        "outputId": "0c0c943a-9344-4a2a-88ee-9cb801931da0"
      },
      "outputs": [
        {
          "output_type": "stream",
          "name": "stdout",
          "text": [
            "Get:1 https://cloud.r-project.org/bin/linux/ubuntu bionic-cran40/ InRelease [3,626 B]\n",
            "Ign:2 https://developer.download.nvidia.com/compute/machine-learning/repos/ubuntu1804/x86_64  InRelease\n",
            "Get:3 https://developer.download.nvidia.com/compute/cuda/repos/ubuntu1804/x86_64  InRelease [1,581 B]\n",
            "Hit:4 https://developer.download.nvidia.com/compute/machine-learning/repos/ubuntu1804/x86_64  Release\n",
            "Get:5 http://ppa.launchpad.net/c2d4u.team/c2d4u4.0+/ubuntu bionic InRelease [15.9 kB]\n",
            "Get:6 https://cloud.r-project.org/bin/linux/ubuntu bionic-cran40/ Packages [91.1 kB]\n",
            "Hit:7 http://archive.ubuntu.com/ubuntu bionic InRelease\n",
            "Get:8 http://security.ubuntu.com/ubuntu bionic-security InRelease [88.7 kB]\n",
            "Get:9 https://developer.download.nvidia.com/compute/cuda/repos/ubuntu1804/x86_64  Packages [912 kB]\n",
            "Get:10 http://archive.ubuntu.com/ubuntu bionic-updates InRelease [88.7 kB]\n",
            "Hit:12 http://ppa.launchpad.net/cran/libgit2/ubuntu bionic InRelease\n",
            "Get:13 http://archive.ubuntu.com/ubuntu bionic-backports InRelease [74.6 kB]\n",
            "Hit:14 http://ppa.launchpad.net/deadsnakes/ppa/ubuntu bionic InRelease\n",
            "Hit:15 http://ppa.launchpad.net/graphics-drivers/ppa/ubuntu bionic InRelease\n",
            "Get:16 http://ppa.launchpad.net/c2d4u.team/c2d4u4.0+/ubuntu bionic/main Sources [2,093 kB]\n",
            "Get:17 http://archive.ubuntu.com/ubuntu bionic-updates/universe amd64 Packages [2,311 kB]\n",
            "Get:18 http://security.ubuntu.com/ubuntu bionic-security/main amd64 Packages [2,939 kB]\n",
            "Get:19 http://archive.ubuntu.com/ubuntu bionic-updates/main amd64 Packages [3,369 kB]\n",
            "Get:20 http://ppa.launchpad.net/c2d4u.team/c2d4u4.0+/ubuntu bionic/main amd64 Packages [1,073 kB]\n",
            "Get:21 http://security.ubuntu.com/ubuntu bionic-security/universe amd64 Packages [1,534 kB]\n",
            "Fetched 14.6 MB in 6s (2,394 kB/s)\n",
            "Reading package lists... Done\n"
          ]
        }
      ],
      "source": [
        "# Spark Installatioin Code\n",
        "\n",
        "import os\n",
        "# Find the latest version of spark 3.0  from http://www.apache.org/dist/spark/ and enter as the spark version.\n",
        "spark_version = 'spark-3.3.0'\n",
        "os.environ['SPARK_VERSION']=spark_version\n",
        "\n",
        "# Install Spark and Java\n",
        "!apt-get update\n",
        "!apt-get install openjdk-11-jdk-headless -qq > /dev/null\n",
        "!wget -q http://www.apache.org/dist/spark/spark-3.3.0/spark-3.3.0-bin-hadoop2.tgz\n",
        "!tar xf spark-3.3.0-bin-hadoop2.tgz\n",
        "!pip install -q findspark\n",
        "\n",
        "# Set Environment Variables\n",
        "import os\n",
        "os.environ[\"JAVA_HOME\"] = \"/usr/lib/jvm/java-11-openjdk-amd64\"\n",
        "os.environ[\"SPARK_HOME\"] = f\"/content/spark-3.3.0-bin-hadoop2\"\n",
        "\n",
        "# Start a SparkSession\n",
        "import findspark\n",
        "findspark.init()"
      ]
    },
    {
      "cell_type": "code",
      "source": [
        "# Download the Postgres driver that will allow Spark to interact with Postgres.\n",
        "!wget https://jdbc.postgresql.org/download/postgresql-42.2.16.jar"
      ],
      "metadata": {
        "colab": {
          "base_uri": "https://localhost:8080/"
        },
        "id": "Jgxa89PZetUY",
        "outputId": "9fe5a35a-39b1-4f57-d7ec-1c4a1e165c82"
      },
      "execution_count": 2,
      "outputs": [
        {
          "output_type": "stream",
          "name": "stdout",
          "text": [
            "--2022-08-29 21:22:05--  https://jdbc.postgresql.org/download/postgresql-42.2.16.jar\n",
            "Resolving jdbc.postgresql.org (jdbc.postgresql.org)... 72.32.157.228, 2001:4800:3e1:1::228\n",
            "Connecting to jdbc.postgresql.org (jdbc.postgresql.org)|72.32.157.228|:443... connected.\n",
            "HTTP request sent, awaiting response... 200 OK\n",
            "Length: 1002883 (979K) [application/java-archive]\n",
            "Saving to: ‘postgresql-42.2.16.jar’\n",
            "\n",
            "postgresql-42.2.16. 100%[===================>] 979.38K  1.17MB/s    in 0.8s    \n",
            "\n",
            "2022-08-29 21:22:07 (1.17 MB/s) - ‘postgresql-42.2.16.jar’ saved [1002883/1002883]\n",
            "\n"
          ]
        }
      ]
    },
    {
      "cell_type": "code",
      "source": [
        "from pyspark.sql import SparkSession\n",
        "spark = SparkSession.builder.appName(\"M16-Amazon-Vine-Challenge\").config(\"spark.driver.extraClassPath\",\"/content/postgresql-42.2.16.jar\").getOrCreate()"
      ],
      "metadata": {
        "id": "XP4jYVYWewYI"
      },
      "execution_count": 3,
      "outputs": []
    },
    {
      "cell_type": "markdown",
      "source": [
        "Load Amazon Data into Spark DataFrame"
      ],
      "metadata": {
        "id": "HnfU_W96e7WJ"
      }
    },
    {
      "cell_type": "code",
      "source": [
        "from pyspark import SparkFiles\n",
        "url = \"https://s3.amazonaws.com/amazon-reviews-pds/tsv/amazon_reviews_us_Pet_Products_v1_00.tsv.gz\"\n",
        "spark.sparkContext.addFile(url)\n",
        "df = spark.read.option(\"encoding\", \"UTF-8\").csv(SparkFiles.get(\"amazon_reviews_us_Pet_Products_v1_00.tsv.gz\"), sep=\"\\t\", header=True, inferSchema=True)\n",
        "df.show()"
      ],
      "metadata": {
        "colab": {
          "base_uri": "https://localhost:8080/"
        },
        "id": "QPNYApeffBZP",
        "outputId": "dbc8377a-c7ff-406e-962f-91e937cee0e6"
      },
      "execution_count": 4,
      "outputs": [
        {
          "output_type": "stream",
          "name": "stdout",
          "text": [
            "+-----------+-----------+--------------+----------+--------------+--------------------+----------------+-----------+-------------+-----------+----+-----------------+--------------------+--------------------+-------------------+\n",
            "|marketplace|customer_id|     review_id|product_id|product_parent|       product_title|product_category|star_rating|helpful_votes|total_votes|vine|verified_purchase|     review_headline|         review_body|        review_date|\n",
            "+-----------+-----------+--------------+----------+--------------+--------------------+----------------+-----------+-------------+-----------+----+-----------------+--------------------+--------------------+-------------------+\n",
            "|         US|   28794885| REAKC26P07MDN|B00Q0K9604|     510387886|(8-Pack) EZwhelp ...|    Pet Products|          5|            0|          0|   N|                Y|A great purchase ...|Best belly bands ...|2015-08-31 00:00:00|\n",
            "|         US|   11488901|R3NU7OMZ4HQIEG|B00MBW5O9W|     912374672|Warren Eckstein's...|    Pet Products|          2|            0|          1|   N|                Y|My dogs love Hugs...|My dogs love Hugs...|2015-08-31 00:00:00|\n",
            "|         US|   43214993|R14QJW3XF8QO1P|B0084OHUIO|     902215727|Tyson's True Chew...|    Pet Products|          5|            0|          0|   N|                Y|I have been purch...|I have been purch...|2015-08-31 00:00:00|\n",
            "|         US|   12835065|R2HB7AX0394ZGY|B001GS71K2|     568880110|Soft Side Pet Cra...|    Pet Products|          5|            0|          0|   N|                Y|it is easy to ope...|It is extremely w...|2015-08-31 00:00:00|\n",
            "|         US|   26334022| RGKMPDQGSAHR3|B004ABH1LG|     692846826|EliteField 3-Door...|    Pet Products|          5|            0|          0|   N|                Y|           Dog crate|Worked really wel...|2015-08-31 00:00:00|\n",
            "|         US|   22283621|R1DJCVPQGCV66E|B00AX0LFM4|     590674141|Carlson 68-Inch W...|    Pet Products|          5|            0|          0|   N|                Y|          Five Stars|I love my gates! ...|2015-08-31 00:00:00|\n",
            "|         US|   14469895|R3V52EAWLPBFQG|B00DQFZGZ0|     688538603|Dog Seat Cover Wi...|    Pet Products|          3|            0|          0|   N|                Y|Seat belt tugs on...|Didn't quite work...|2015-08-31 00:00:00|\n",
            "|         US|   50896354|R3DKO8J1J28QBI|B00DIRF9US|     742358789|The Bird Catcher ...|    Pet Products|          2|            0|          0|   N|                Y|Great Pole, but S...|I had the origina...|2015-08-31 00:00:00|\n",
            "|         US|   18440567| R764DBXGRNECG|B00JRCBFUG|     869798483|Cat Bed - Purrfec...|    Pet Products|          5|            1|          1|   N|                N|     My cat loves it|The pad is very s...|2015-08-31 00:00:00|\n",
            "|         US|   50502362| RW1853GAT0Z9F|B000L3XYZ4|     501118658|PetSafe Drinkwell...|    Pet Products|          5|            0|          0|   N|                Y|          Five Stars|My cat drinks mor...|2015-08-31 00:00:00|\n",
            "|         US|   33930128|R33GITXNUF1AD4|B00BOEXWFG|     454737777|Contech ZenDog Ca...|    Pet Products|          2|            0|          0|   N|                Y|Also had to pull ...|Much smaller than...|2015-08-31 00:00:00|\n",
            "|         US|   43534290|R1H7AVM81TAYRV|B001HBBQKY|     420905252|Wellness Crunchy ...|    Pet Products|          1|            2|          2|   N|                Y|DO NOT PURCHASE -...|I used to love th...|2015-08-31 00:00:00|\n",
            "|         US|   45555864|R2ZOYAQZNNZZWV|B007O1FHB0|     302588963|Rx Vitamins Essen...|    Pet Products|          5|            0|          0|   N|                Y|          Five Stars|Recommended by my...|2015-08-31 00:00:00|\n",
            "|         US|   11147406|R2FN1H3CGW6J8H|B001P3NU30|     525778264|Virbac C.E.T. Enz...|    Pet Products|          1|            0|          0|   N|                Y|Received wrong pr...|Yes I  ordered fo...|2015-08-31 00:00:00|\n",
            "|         US|    6495678| RJB41Q575XNG4|B00ZP6HS6S|     414117299|Kitty Shack - 2 i...|    Pet Products|          5|            0|          3|   N|                Y|          Five Stars|      It falls apart|2015-08-31 00:00:00|\n",
            "|         US|    2019416|R28W8BM1587CPF|B00IP05CUA|     833937853|Wellness Kittles ...|    Pet Products|          5|            0|          0|   N|                Y|kitty is ravenous...|My cat really lov...|2015-08-31 00:00:00|\n",
            "|         US|   40459386|R1II0M01NIG293|B001U8Y598|      85343577|OmniPet Anti-Ant ...|    Pet Products|          2|            0|          0|   N|                N|Maybe other speci...|This bowl is not ...|2015-08-31 00:00:00|\n",
            "|         US|   23126800| RMB8N0DBRH34O|B011AY4JWO|     499241195|K9KONNECTION [New...|    Pet Products|          5|            1|          1|   N|                Y|This works, dog n...|I have a small do...|2015-08-31 00:00:00|\n",
            "|         US|   30238476|R24WB6A6WVIPU6|B00DDSHE5A|     409532388|SUNSEED COMPANY 3...|    Pet Products|          5|            0|          0|   N|                Y|    Yummy for Bunny!|Bunny loves it! E...|2015-08-31 00:00:00|\n",
            "|         US|   35113999| ROCJSH0P9YSRW|B00PJW5OR8|     259271919|CXB1983(TM)Cute P...|    Pet Products|          5|            0|          0|   N|                Y|excellent price, ...|Petfect,,quality ...|2015-08-31 00:00:00|\n",
            "+-----------+-----------+--------------+----------+--------------+--------------------+----------------+-----------+-------------+-----------+----+-----------------+--------------------+--------------------+-------------------+\n",
            "only showing top 20 rows\n",
            "\n"
          ]
        }
      ]
    },
    {
      "cell_type": "code",
      "source": [
        "df.count()"
      ],
      "metadata": {
        "colab": {
          "base_uri": "https://localhost:8080/"
        },
        "id": "cqhzHzmkfJfp",
        "outputId": "5a874ed6-c76c-45fc-f0c1-30659b1b5c74"
      },
      "execution_count": 5,
      "outputs": [
        {
          "output_type": "execute_result",
          "data": {
            "text/plain": [
              "2643619"
            ]
          },
          "metadata": {},
          "execution_count": 5
        }
      ]
    },
    {
      "cell_type": "code",
      "source": [
        "# Load in SQL function to use col\n",
        "from pyspark.sql.functions import col"
      ],
      "metadata": {
        "id": "g6MMiQ6TfNTT"
      },
      "execution_count": 6,
      "outputs": []
    },
    {
      "cell_type": "code",
      "source": [
        "# Retrieve only columns with total votes equal to or greater than 20\n",
        "total_votes_20plus_df = df.filter(col('total_votes') >= 20)\n",
        "total_votes_20plus_df.show()"
      ],
      "metadata": {
        "colab": {
          "base_uri": "https://localhost:8080/"
        },
        "id": "hfBwSm5ifgAU",
        "outputId": "35df3000-69bf-4e13-f656-2beee5fd1c82"
      },
      "execution_count": 7,
      "outputs": [
        {
          "output_type": "stream",
          "name": "stdout",
          "text": [
            "+-----------+-----------+--------------+----------+--------------+--------------------+----------------+-----------+-------------+-----------+----+-----------------+--------------------+--------------------+-------------------+\n",
            "|marketplace|customer_id|     review_id|product_id|product_parent|       product_title|product_category|star_rating|helpful_votes|total_votes|vine|verified_purchase|     review_headline|         review_body|        review_date|\n",
            "+-----------+-----------+--------------+----------+--------------+--------------------+----------------+-----------+-------------+-----------+----+-----------------+--------------------+--------------------+-------------------+\n",
            "|         US|   51227803|R21KC552Y6HL8X|B00E2E1XBK|     180836080|Kennel Deck - 3 Pack|    Pet Products|          1|           27|         31|   N|                Y|The picture is of...|The product add p...|2015-08-31 00:00:00|\n",
            "|         US|   52747799| RX9WC9FTIR1XR|B00DZITYGU|     598776873|Grey Shark Bed fo...|    Pet Products|          5|           25|         25|   N|                Y|Two seconds flat ...|Once I set it up,...|2015-08-31 00:00:00|\n",
            "|         US|   23340430| RGDCOU1KBHMNG|B00N9SL8SS|     721942363|Pet Rat Mouse Lea...|    Pet Products|          3|           29|         31|   N|                Y|        OK for Price|Easy enough to pu...|2015-08-31 00:00:00|\n",
            "|         US|   48234208| RVTYWID2TPMMY|B00EB4IV2A|     140722056|Northmate Catch I...|    Pet Products|          2|           35|         42|   N|                Y|        Intimidating|Love the concept....|2015-08-31 00:00:00|\n",
            "|         US|    2321625|R2CMPZ5VESGRLY|B00OC7661E|     664108863|4 Pets Large Dog ...|    Pet Products|          4|           27|         28|   N|                Y|Xl fits my 51 pou...|A little big on h...|2015-08-31 00:00:00|\n",
            "|         US|   48415890|R3VQPJZ54B55BA|B0108LVGZI|     301347908|Medicated Oatmeal...|    Pet Products|          5|           62|         64|   N|                N|My Husky Says \"Th...|[[VIDEOID:2f1bbfc...|2015-08-31 00:00:00|\n",
            "|         US|   47321827|R24QM6D7FEDZ5M|B00EB4IV2A|     140722056|Northmate Catch I...|    Pet Products|          2|           36|         43|   N|                Y|MINI SIZE IS QUIT...|Have been using t...|2015-08-31 00:00:00|\n",
            "|         US|   53020738|R3A1VQ3SQDXEJ3|B00OLSARPK|     271494331|TEMPTATIONS SNACK...|    Pet Products|          5|           20|         20|   N|                Y|Fun for Even Less...|[[VIDEOID:4cc2a20...|2015-08-31 00:00:00|\n",
            "|         US|   41141285|  R39GSNW76GYF|B00YS9HI7C|     821362342|Easyology Premium...|    Pet Products|          1|           20|         23|   N|                Y|Hole within 24 hours|I hate to be one ...|2015-08-31 00:00:00|\n",
            "|         US|   51455033| RPJLR6MFDPXXE|B00Y841P12|     934091093|Merax Folding Cat...|    Pet Products|          5|           35|         36|   N|                Y|I LOVE THIS STROL...|My dog, Paris, is...|2015-08-31 00:00:00|\n",
            "|         US|    2643042|R34X0ZGVB3YGYO|B00W6UJCLK|     871386528|ASPCA Booster Car...|    Pet Products|          5|           47|         47|   N|                Y|Awesome Awesome A...|I don't write rev...|2015-08-31 00:00:00|\n",
            "|         US|   41369738|R2C9O1BOV14Q0Z|B00O19NFEO|     126534870|Paws & Pals Delux...|    Pet Products|          1|           62|         79|   N|                Y|      Not a good buy|This was my first...|2015-08-31 00:00:00|\n",
            "|         US|   24128810| RM6ZH5J3XDNHK|B00XIKSN3K|     949305810|Tiger Tough Cat T...|    Pet Products|          5|           79|         87|   N|                Y|I now have the ha...|I just received t...|2015-08-31 00:00:00|\n",
            "|         US|   14661359|R2E363K75EMW4K|B013AZV3IE|     602175668|6 Nano Luffy Mari...|    Pet Products|          5|           66|         69|   N|                Y|He responded quic...|This is soooo cut...|2015-08-31 00:00:00|\n",
            "|         US|     481888|R2VJII8VKSJHDF|B00N8JTLZU|     677647123|Esky Dog Training...|    Pet Products|          1|           24|         29|   N|                N|FIRE HAZARD charg...|Good thing the GC...|2015-08-31 00:00:00|\n",
            "|         US|   12148661|R2U35Y2P27M13E|B009SPYPKE|     332640550|Milliard Premium ...|    Pet Products|          1|           43|         45|   N|                Y|don't waste your ...|Do not waste your...|2015-08-31 00:00:00|\n",
            "|         US|   31752493| RLMZOQL11VHBX|B000J2OH9Y|     352610242|Underwater River ...|    Pet Products|          5|           23|         24|   N|                Y|I just love it, I...|It's simple, I ju...|2015-08-31 00:00:00|\n",
            "|         US|   28425377|R3C6CQQRRA8SYP|B00MW8G62E|     955723613|AmazonBasics Pet ...|    Pet Products|          5|           52|         58|   N|                Y|I LOVE these pads...|This product is t...|2015-08-31 00:00:00|\n",
            "|         US|    2676347|R3T7YOX0AEDZL3|B004QN0MJQ|     589329694|Bayer Advantage I...|    Pet Products|          1|           45|         47|   N|                N|Afraid to use it ...|I used this brand...|2015-08-31 00:00:00|\n",
            "|         US|   18430566|R176V3AYS3R4HG|B013SR7L62|     931410742|PETLESO Dog Shoes...|    Pet Products|          5|           26|         27|   N|                N|Great looking and...|These are pretty ...|2015-08-31 00:00:00|\n",
            "+-----------+-----------+--------------+----------+--------------+--------------------+----------------+-----------+-------------+-----------+----+-----------------+--------------------+--------------------+-------------------+\n",
            "only showing top 20 rows\n",
            "\n"
          ]
        }
      ]
    },
    {
      "cell_type": "code",
      "source": [
        "# Count of data\n",
        "total_votes_20plus_df.count()"
      ],
      "metadata": {
        "colab": {
          "base_uri": "https://localhost:8080/"
        },
        "id": "A4l2wcXkf_uX",
        "outputId": "1e846734-2887-4df1-aac0-faa336564f67"
      },
      "execution_count": 8,
      "outputs": [
        {
          "output_type": "execute_result",
          "data": {
            "text/plain": [
              "39376"
            ]
          },
          "metadata": {},
          "execution_count": 8
        }
      ]
    },
    {
      "cell_type": "code",
      "source": [
        "# Retrieve all the rows where the number of helpful_vote/total_votes is equal to or greater than 50%\n",
        "helpful_votes_50plus_df = df.filter(col('helpful_votes')/col('total_votes') >= 0.50)\n",
        "helpful_votes_50plus_df.show()"
      ],
      "metadata": {
        "colab": {
          "base_uri": "https://localhost:8080/"
        },
        "id": "sIxzSG7xgE-S",
        "outputId": "8cd6fc67-0ff4-4c97-feb2-dc372d5315aa"
      },
      "execution_count": 9,
      "outputs": [
        {
          "output_type": "stream",
          "name": "stdout",
          "text": [
            "+-----------+-----------+--------------+----------+--------------+--------------------+----------------+-----------+-------------+-----------+----+-----------------+--------------------+--------------------+-------------------+\n",
            "|marketplace|customer_id|     review_id|product_id|product_parent|       product_title|product_category|star_rating|helpful_votes|total_votes|vine|verified_purchase|     review_headline|         review_body|        review_date|\n",
            "+-----------+-----------+--------------+----------+--------------+--------------------+----------------+-----------+-------------+-----------+----+-----------------+--------------------+--------------------+-------------------+\n",
            "|         US|   18440567| R764DBXGRNECG|B00JRCBFUG|     869798483|Cat Bed - Purrfec...|    Pet Products|          5|            1|          1|   N|                N|     My cat loves it|The pad is very s...|2015-08-31 00:00:00|\n",
            "|         US|   43534290|R1H7AVM81TAYRV|B001HBBQKY|     420905252|Wellness Crunchy ...|    Pet Products|          1|            2|          2|   N|                Y|DO NOT PURCHASE -...|I used to love th...|2015-08-31 00:00:00|\n",
            "|         US|   23126800| RMB8N0DBRH34O|B011AY4JWO|     499241195|K9KONNECTION [New...|    Pet Products|          5|            1|          1|   N|                Y|This works, dog n...|I have a small do...|2015-08-31 00:00:00|\n",
            "|         US|     159063| RLR047V0C09SG|B002FK82JO|      86580232|Rubies Costume Ru...|    Pet Products|          5|            1|          1|   N|                Y|            Love it!|Love it!! I have ...|2015-08-31 00:00:00|\n",
            "|         US|    6454837|R2D06CYY6KZSJ0|B00FEEFM6Y|     314480388|Zuke’s Skinny Bak...|    Pet Products|          2|           16|         19|   N|                Y|        Not the best|My dog doesn't li...|2015-08-31 00:00:00|\n",
            "|         US|    1820095|R2P2G1XUTS2UI1|B0002565N4|     419360744|Penn Plax The Sup...|    Pet Products|          5|            8|          8|   N|                Y|Works perfect wit...|I've used this tw...|2015-08-31 00:00:00|\n",
            "|         US|   10299380|R2E9I9L1DXK7U8|B00DJZ0SE6|     298598234|Wysong Geriatrx S...|    Pet Products|          5|           10|         10|   N|                Y|    Wysong Geriatrix|This is one of my...|2015-08-31 00:00:00|\n",
            "|         US|   11599687|  ROPI31U4NHTB|B0025184RS|     402256434|Nature's Miracle ...|    Pet Products|          2|            1|          1|   N|                Y|Doesn't work on m...|Does not work on ...|2015-08-31 00:00:00|\n",
            "|         US|     898307|R2EDA9TQWM5LOW|B008CA7W7E|     714818763|Tetra 29095 Cube ...|    Pet Products|          5|            1|          1|   N|                Y|          Five Stars|Really great for ...|2015-08-31 00:00:00|\n",
            "|         US|   22852864| RBJ69AC0G5A5R|B00VPY57Y4|     209000357|ANTBLOCKER Ant Fr...|    Pet Products|          5|            1|          1|   N|                Y|Works, unless you...|Works, unless you...|2015-08-31 00:00:00|\n",
            "|         US|   20666238|R3K2WKNT0S6CX3|B00XWCP7DS|     686696386|Share a Smile wit...|    Pet Products|          5|            1|          1|   N|                Y|            Awesome!|This ball is amaz...|2015-08-31 00:00:00|\n",
            "|         US|   18771698|R32UT59G2WIWSY|B004LOIEDQ|       5950297|Coastal Pet Produ...|    Pet Products|          5|            5|          5|   N|                Y|BEST HARNESSES ON...|I bought two of t...|2015-08-31 00:00:00|\n",
            "|         US|    3893752|R3H8DF3VANSV2P|B00S9MZSA8|     866620308|Pawow Dog Sweatsh...|    Pet Products|          3|            1|          1|   N|                Y|         Three Stars|     Runs VERY small|2015-08-31 00:00:00|\n",
            "|         US|   41045679| RS034OZJQ89I9|B00520C308|     895982033|Petlinks Feathere...|    Pet Products|          1|            1|          1|   N|                Y|Did not hold up. ...|Did not hold up. ...|2015-08-31 00:00:00|\n",
            "|         US|   22704304|R1BGQFB99W61JM|B00L9NY2KG|       8526176|BLUE Wilderness H...|    Pet Products|          5|            3|          3|   N|                Y|The vet said this...|Our 10-year-old B...|2015-08-31 00:00:00|\n",
            "|         US|   15468258|R20H5BWO71K33G|B00MNO32DS|     345628085|Cat Litter Box - ...|    Pet Products|          3|            1|          1|   N|                Y|Didn't really liv...|bought this litte...|2015-08-31 00:00:00|\n",
            "|         US|   13497289| RT0UQXBO40MI5|B00KXE0SJ6|     626985166|Phoenix Worms (Sm...|    Pet Products|          5|            6|          6|   N|                Y|Great service and...|They arrived soon...|2015-08-31 00:00:00|\n",
            "|         US|    1827584|R2R4LVTUFXINBO|B00LDCG18Y|     959229821|SoFun Sugar Glide...|    Pet Products|          5|            1|          1|   N|                Y|          Five Stars|This pouch is ama...|2015-08-31 00:00:00|\n",
            "|         US|   49550600|R2LREMQJN3A8IZ|B0024EFYU6|     642003803|TetraPond Submers...|    Pet Products|          5|            1|          1|   N|                Y|          Five Stars|                 Yes|2015-08-31 00:00:00|\n",
            "|         US|   27793040|R3GOPEOBBS8Z6B|B0006NEGQ0|     934963977|Cozy Cave Pet Bed...|    Pet Products|          5|            1|          1|   N|                Y| Dog Cave is Perfect|Great product.  O...|2015-08-31 00:00:00|\n",
            "+-----------+-----------+--------------+----------+--------------+--------------------+----------------+-----------+-------------+-----------+----+-----------------+--------------------+--------------------+-------------------+\n",
            "only showing top 20 rows\n",
            "\n"
          ]
        }
      ]
    },
    {
      "cell_type": "code",
      "source": [
        "# Count of data\n",
        "helpful_votes_50plus_df.count()"
      ],
      "metadata": {
        "colab": {
          "base_uri": "https://localhost:8080/"
        },
        "id": "ImJ6AMEnguF0",
        "outputId": "0f722adc-bf31-4cef-dbdc-0dce43154156"
      },
      "execution_count": 10,
      "outputs": [
        {
          "output_type": "execute_result",
          "data": {
            "text/plain": [
              "820566"
            ]
          },
          "metadata": {},
          "execution_count": 10
        }
      ]
    },
    {
      "cell_type": "code",
      "source": [
        "# Retrieve data where a review was written as part of the Vine program\n",
        "paid_vine_df = helpful_votes_50plus_df.filter(col(\"vine\") == 'Y')\n",
        "paid_vine_df.show()"
      ],
      "metadata": {
        "colab": {
          "base_uri": "https://localhost:8080/"
        },
        "id": "l988rxfrg0Dd",
        "outputId": "fe07c914-e812-4f0d-eb9e-78eef33c6602"
      },
      "execution_count": 11,
      "outputs": [
        {
          "output_type": "stream",
          "name": "stdout",
          "text": [
            "+-----------+-----------+--------------+----------+--------------+--------------------+----------------+-----------+-------------+-----------+----+-----------------+--------------------+--------------------+-------------------+\n",
            "|marketplace|customer_id|     review_id|product_id|product_parent|       product_title|product_category|star_rating|helpful_votes|total_votes|vine|verified_purchase|     review_headline|         review_body|        review_date|\n",
            "+-----------+-----------+--------------+----------+--------------+--------------------+----------------+-----------+-------------+-----------+----+-----------------+--------------------+--------------------+-------------------+\n",
            "|         US|   52185679| R9WD02GLN4A35|B00JGWN8O8|     378897034|Petcube Interacti...|    Pet Products|          5|            7|          8|   Y|                N|Lots of fun with ...|This is great fun...|2015-08-31 00:00:00|\n",
            "|         US|   44838902|R10A8UNLH0KARF|B00WO6MEXO|     883969801|Prevue Pet Produc...|    Pet Products|          3|            1|          1|   Y|                N|The height for th...|Our cat is long a...|2015-08-31 00:00:00|\n",
            "|         US|   13171749|R3M4YYUXIJ6XMF|B00XV81DU4|     412783505|Purina Beyond Nat...|    Pet Products|          4|            2|          2|   Y|                N|a tremendous impr...|So far, so good. ...|2015-08-30 00:00:00|\n",
            "|         US|   51327523|R22RZB3DND8XJO|B00XKLCQNK|     458311255|Purina Beyond Nat...|    Pet Products|          4|            1|          1|   Y|                N|    The dog loved it|This is designed ...|2015-08-30 00:00:00|\n",
            "|         US|   52759542| R6PROVFEGSNRK|B00XKLCQNK|     458311255|Purina Beyond Nat...|    Pet Products|          3|            1|          1|   Y|                N|Expensive Pumpkin...|My dog hates dry ...|2015-08-30 00:00:00|\n",
            "|         US|   49737329|R1X65DWI7Y9TKP|B001WOOC9S|     646797852|Composure for Med...|    Pet Products|          4|            1|          2|   Y|                N|Best I have tried...|I've tried severa...|2015-08-30 00:00:00|\n",
            "|         US|   53035876| R18GPJ1M4VRPH|B00R4GLVJM|     436861964|Wellness Divine D...|    Pet Products|          2|            2|          2|   Y|                N|      Sorry, Charlie|I have reviewed a...|2015-08-29 00:00:00|\n",
            "|         US|   44759540|R3A71VR1JZD8WF|B00JGWN8O8|     378897034|Petcube Interacti...|    Pet Products|          2|           27|         30|   Y|                N|Great idea, not s...|I do not hate thi...|2015-08-29 00:00:00|\n",
            "|         US|   16314203| RYVR28GFFVAVB|B00WO6MFLA|     543509287|Prevue Pet Produc...|    Pet Products|          5|            5|          6|   Y|                N|  My cat loves this!|My cat loves this...|2015-08-29 00:00:00|\n",
            "|         US|   53043025| RA9DDSJW1ST84|B00UXHQ3QU|     573949796|Prevue Catville C...|    Pet Products|          4|            6|          6|   Y|                N|It’s the cat’s me...|Condo living is “...|2015-08-29 00:00:00|\n",
            "|         US|   37388532|R16OMUJIGI18JZ|B00IP05CUA|     833937853|Wellness Kittles ...|    Pet Products|          5|           72|         72|   Y|                N|My cats went craz...|My cats response ...|2015-08-29 00:00:00|\n",
            "|         US|   49620639|R1HBVWV7SWJ5D8|B00EUV6SLU|     802000617|Nerf Dog Ridged S...|    Pet Products|          5|            1|          1|   Y|                N|         SQUUEEEEAK!|So there I am, in...|2015-08-29 00:00:00|\n",
            "|         US|   51401810|R3TD1GLS4D2Q1S|B00R4GLVJM|     436861964|Wellness Divine D...|    Pet Products|          3|            2|          3|   Y|                N|Two out of three ...|After testing alm...|2015-08-28 00:00:00|\n",
            "|         US|   50079351| RI761GFQVZA1N|B00XKLCQNK|     458311255|Purina Beyond Nat...|    Pet Products|          3|            5|          6|   Y|                N|I found it imposs...|My dogs liked thi...|2015-08-28 00:00:00|\n",
            "|         US|   21912759| R960IYLVW0AYO|B00XKLCQNK|     458311255|Purina Beyond Nat...|    Pet Products|          3|            1|          1|   Y|                N|Purina's probioti...|One pouch of this...|2015-08-28 00:00:00|\n",
            "|         US|   52884060|R12UASF20JZTHP|B00R4GLVW4|     436861964|Wellness Divine D...|    Pet Products|          4|            1|          2|   Y|                N|I like it but my ...|Wellness brand ca...|2015-08-27 00:00:00|\n",
            "|         US|   25388755| RNR96FIJNG2PI|B00XKLCQNK|     458311255|Purina Beyond Nat...|    Pet Products|          5|            1|          1|   Y|                N|        A nice treat|This is a great w...|2015-08-27 00:00:00|\n",
            "|         US|   34185030|R1BPNWLIQLP6HQ|B00R4GLVJM|     436861964|Wellness Divine D...|    Pet Products|          3|            1|          1|   Y|                N|This chicken dinn...|This seems like q...|2015-08-27 00:00:00|\n",
            "|         US|   51302590|R2OZ8PHS7CNYSR|B00R4GLVJM|     436861964|Wellness Divine D...|    Pet Products|          2|            4|          4|   Y|                N|Wellness should p...|It's a &#34;cute&...|2015-08-26 00:00:00|\n",
            "|         US|   52709697| R6VBKDSH1ET6L|B001WOOC9S|     646797852|Composure for Med...|    Pet Products|          5|            1|          1|   Y|                N|      Calming effect|These dog chews r...|2015-08-26 00:00:00|\n",
            "+-----------+-----------+--------------+----------+--------------+--------------------+----------------+-----------+-------------+-----------+----+-----------------+--------------------+--------------------+-------------------+\n",
            "only showing top 20 rows\n",
            "\n"
          ]
        }
      ]
    },
    {
      "cell_type": "code",
      "source": [
        "# Count of data\n",
        "paid_vine_df.count()"
      ],
      "metadata": {
        "colab": {
          "base_uri": "https://localhost:8080/"
        },
        "id": "zrTISJxQhSH4",
        "outputId": "0bcf581b-f8fc-4ce8-afd8-d1886e34b69e"
      },
      "execution_count": 12,
      "outputs": [
        {
          "output_type": "execute_result",
          "data": {
            "text/plain": [
              "4103"
            ]
          },
          "metadata": {},
          "execution_count": 12
        }
      ]
    },
    {
      "cell_type": "code",
      "source": [
        "# Retrieve data where a review was not part of the Vine program\n",
        "unpaid_vine_df = helpful_votes_50plus_df.filter(col(\"vine\") == 'N')\n",
        "unpaid_vine_df.show()"
      ],
      "metadata": {
        "colab": {
          "base_uri": "https://localhost:8080/"
        },
        "id": "qz0lNDCMhXn8",
        "outputId": "b9080af1-8b3c-4cb8-a522-ae62cfe23a9f"
      },
      "execution_count": 13,
      "outputs": [
        {
          "output_type": "stream",
          "name": "stdout",
          "text": [
            "+-----------+-----------+--------------+----------+--------------+--------------------+----------------+-----------+-------------+-----------+----+-----------------+--------------------+--------------------+-------------------+\n",
            "|marketplace|customer_id|     review_id|product_id|product_parent|       product_title|product_category|star_rating|helpful_votes|total_votes|vine|verified_purchase|     review_headline|         review_body|        review_date|\n",
            "+-----------+-----------+--------------+----------+--------------+--------------------+----------------+-----------+-------------+-----------+----+-----------------+--------------------+--------------------+-------------------+\n",
            "|         US|   18440567| R764DBXGRNECG|B00JRCBFUG|     869798483|Cat Bed - Purrfec...|    Pet Products|          5|            1|          1|   N|                N|     My cat loves it|The pad is very s...|2015-08-31 00:00:00|\n",
            "|         US|   43534290|R1H7AVM81TAYRV|B001HBBQKY|     420905252|Wellness Crunchy ...|    Pet Products|          1|            2|          2|   N|                Y|DO NOT PURCHASE -...|I used to love th...|2015-08-31 00:00:00|\n",
            "|         US|   23126800| RMB8N0DBRH34O|B011AY4JWO|     499241195|K9KONNECTION [New...|    Pet Products|          5|            1|          1|   N|                Y|This works, dog n...|I have a small do...|2015-08-31 00:00:00|\n",
            "|         US|     159063| RLR047V0C09SG|B002FK82JO|      86580232|Rubies Costume Ru...|    Pet Products|          5|            1|          1|   N|                Y|            Love it!|Love it!! I have ...|2015-08-31 00:00:00|\n",
            "|         US|    6454837|R2D06CYY6KZSJ0|B00FEEFM6Y|     314480388|Zuke’s Skinny Bak...|    Pet Products|          2|           16|         19|   N|                Y|        Not the best|My dog doesn't li...|2015-08-31 00:00:00|\n",
            "|         US|    1820095|R2P2G1XUTS2UI1|B0002565N4|     419360744|Penn Plax The Sup...|    Pet Products|          5|            8|          8|   N|                Y|Works perfect wit...|I've used this tw...|2015-08-31 00:00:00|\n",
            "|         US|   10299380|R2E9I9L1DXK7U8|B00DJZ0SE6|     298598234|Wysong Geriatrx S...|    Pet Products|          5|           10|         10|   N|                Y|    Wysong Geriatrix|This is one of my...|2015-08-31 00:00:00|\n",
            "|         US|   11599687|  ROPI31U4NHTB|B0025184RS|     402256434|Nature's Miracle ...|    Pet Products|          2|            1|          1|   N|                Y|Doesn't work on m...|Does not work on ...|2015-08-31 00:00:00|\n",
            "|         US|     898307|R2EDA9TQWM5LOW|B008CA7W7E|     714818763|Tetra 29095 Cube ...|    Pet Products|          5|            1|          1|   N|                Y|          Five Stars|Really great for ...|2015-08-31 00:00:00|\n",
            "|         US|   22852864| RBJ69AC0G5A5R|B00VPY57Y4|     209000357|ANTBLOCKER Ant Fr...|    Pet Products|          5|            1|          1|   N|                Y|Works, unless you...|Works, unless you...|2015-08-31 00:00:00|\n",
            "|         US|   20666238|R3K2WKNT0S6CX3|B00XWCP7DS|     686696386|Share a Smile wit...|    Pet Products|          5|            1|          1|   N|                Y|            Awesome!|This ball is amaz...|2015-08-31 00:00:00|\n",
            "|         US|   18771698|R32UT59G2WIWSY|B004LOIEDQ|       5950297|Coastal Pet Produ...|    Pet Products|          5|            5|          5|   N|                Y|BEST HARNESSES ON...|I bought two of t...|2015-08-31 00:00:00|\n",
            "|         US|    3893752|R3H8DF3VANSV2P|B00S9MZSA8|     866620308|Pawow Dog Sweatsh...|    Pet Products|          3|            1|          1|   N|                Y|         Three Stars|     Runs VERY small|2015-08-31 00:00:00|\n",
            "|         US|   41045679| RS034OZJQ89I9|B00520C308|     895982033|Petlinks Feathere...|    Pet Products|          1|            1|          1|   N|                Y|Did not hold up. ...|Did not hold up. ...|2015-08-31 00:00:00|\n",
            "|         US|   22704304|R1BGQFB99W61JM|B00L9NY2KG|       8526176|BLUE Wilderness H...|    Pet Products|          5|            3|          3|   N|                Y|The vet said this...|Our 10-year-old B...|2015-08-31 00:00:00|\n",
            "|         US|   15468258|R20H5BWO71K33G|B00MNO32DS|     345628085|Cat Litter Box - ...|    Pet Products|          3|            1|          1|   N|                Y|Didn't really liv...|bought this litte...|2015-08-31 00:00:00|\n",
            "|         US|   13497289| RT0UQXBO40MI5|B00KXE0SJ6|     626985166|Phoenix Worms (Sm...|    Pet Products|          5|            6|          6|   N|                Y|Great service and...|They arrived soon...|2015-08-31 00:00:00|\n",
            "|         US|    1827584|R2R4LVTUFXINBO|B00LDCG18Y|     959229821|SoFun Sugar Glide...|    Pet Products|          5|            1|          1|   N|                Y|          Five Stars|This pouch is ama...|2015-08-31 00:00:00|\n",
            "|         US|   49550600|R2LREMQJN3A8IZ|B0024EFYU6|     642003803|TetraPond Submers...|    Pet Products|          5|            1|          1|   N|                Y|          Five Stars|                 Yes|2015-08-31 00:00:00|\n",
            "|         US|   27793040|R3GOPEOBBS8Z6B|B0006NEGQ0|     934963977|Cozy Cave Pet Bed...|    Pet Products|          5|            1|          1|   N|                Y| Dog Cave is Perfect|Great product.  O...|2015-08-31 00:00:00|\n",
            "+-----------+-----------+--------------+----------+--------------+--------------------+----------------+-----------+-------------+-----------+----+-----------------+--------------------+--------------------+-------------------+\n",
            "only showing top 20 rows\n",
            "\n"
          ]
        }
      ]
    },
    {
      "cell_type": "code",
      "source": [
        "# Count of data\n",
        "unpaid_vine_df.count()"
      ],
      "metadata": {
        "colab": {
          "base_uri": "https://localhost:8080/"
        },
        "id": "T1MHw4OIhjZo",
        "outputId": "cd145dd0-185d-4bd1-a04d-7f0442a68485"
      },
      "execution_count": 14,
      "outputs": [
        {
          "output_type": "execute_result",
          "data": {
            "text/plain": [
              "816463"
            ]
          },
          "metadata": {},
          "execution_count": 14
        }
      ]
    },
    {
      "cell_type": "code",
      "source": [
        "# Total number of 5-star reviews paid\n",
        "paid_star_rating_df = paid_vine_df.filter(col(\"star_rating\") == 5)\n",
        "paid_star_rating_df.show()"
      ],
      "metadata": {
        "colab": {
          "base_uri": "https://localhost:8080/"
        },
        "id": "NW0tMtNfhnMy",
        "outputId": "1e2f9c46-8b81-4051-b707-87da7941c95b"
      },
      "execution_count": 15,
      "outputs": [
        {
          "output_type": "stream",
          "name": "stdout",
          "text": [
            "+-----------+-----------+--------------+----------+--------------+--------------------+----------------+-----------+-------------+-----------+----+-----------------+--------------------+--------------------+-------------------+\n",
            "|marketplace|customer_id|     review_id|product_id|product_parent|       product_title|product_category|star_rating|helpful_votes|total_votes|vine|verified_purchase|     review_headline|         review_body|        review_date|\n",
            "+-----------+-----------+--------------+----------+--------------+--------------------+----------------+-----------+-------------+-----------+----+-----------------+--------------------+--------------------+-------------------+\n",
            "|         US|   52185679| R9WD02GLN4A35|B00JGWN8O8|     378897034|Petcube Interacti...|    Pet Products|          5|            7|          8|   Y|                N|Lots of fun with ...|This is great fun...|2015-08-31 00:00:00|\n",
            "|         US|   16314203| RYVR28GFFVAVB|B00WO6MFLA|     543509287|Prevue Pet Produc...|    Pet Products|          5|            5|          6|   Y|                N|  My cat loves this!|My cat loves this...|2015-08-29 00:00:00|\n",
            "|         US|   37388532|R16OMUJIGI18JZ|B00IP05CUA|     833937853|Wellness Kittles ...|    Pet Products|          5|           72|         72|   Y|                N|My cats went craz...|My cats response ...|2015-08-29 00:00:00|\n",
            "|         US|   49620639|R1HBVWV7SWJ5D8|B00EUV6SLU|     802000617|Nerf Dog Ridged S...|    Pet Products|          5|            1|          1|   Y|                N|         SQUUEEEEAK!|So there I am, in...|2015-08-29 00:00:00|\n",
            "|         US|   25388755| RNR96FIJNG2PI|B00XKLCQNK|     458311255|Purina Beyond Nat...|    Pet Products|          5|            1|          1|   Y|                N|        A nice treat|This is a great w...|2015-08-27 00:00:00|\n",
            "|         US|   52709697| R6VBKDSH1ET6L|B001WOOC9S|     646797852|Composure for Med...|    Pet Products|          5|            1|          1|   Y|                N|      Calming effect|These dog chews r...|2015-08-26 00:00:00|\n",
            "|         US|   36751149| RDFI4XY18RW0I|B00XKLCQNK|     458311255|Purina Beyond Nat...|    Pet Products|          5|            1|          1|   Y|                N|Our dog is gettin...|Our dog is gettin...|2015-08-25 00:00:00|\n",
            "|         US|   49612591|R1JPVT0JS463VJ|B00IP05CUA|     833937853|Wellness Kittles ...|    Pet Products|          5|            1|          1|   Y|                N|    They love these!|Treats are a mixe...|2015-08-25 00:00:00|\n",
            "|         US|   51377989|R135TEA4T2HC25|B00S6EXLEO|     873847286|Cat's Pride Fresh...|    Pet Products|          5|            1|          1|   Y|                N|     Controls Smells|I only have one c...|2015-08-25 00:00:00|\n",
            "|         US|   51817707|R3TS8ZP2FHQ9XR|B00JGWN8O8|     378897034|Petcube Interacti...|    Pet Products|          5|           39|         42|   Y|                N|keeps my dogs ent...|The Petcube is a ...|2015-08-25 00:00:00|\n",
            "|         US|   53017806| RV987VXDB4UE2|B000MLHDS4|     272460749|Wellness Pure Rew...|    Pet Products|          5|            7|          8|   Y|                N|Tasty treats for ...|[[VIDEOID:6a945d2...|2015-08-25 00:00:00|\n",
            "|         US|   51983887|R2IAWFMZTIR843|B00XV81DU4|     412783505|Purina Beyond Nat...|    Pet Products|          5|            1|          1|   Y|                N|Good food for the...|Our cats range fr...|2015-08-24 00:00:00|\n",
            "|         US|   44008671| R182EHH1J1N6I|B00TZMCB06|     941629379|  NUTRO Wet Cat Food|    Pet Products|          5|            1|          1|   Y|                N|Very good ingredi...|This is the first...|2015-08-24 00:00:00|\n",
            "|         US|   21451203| RKF0XF8NDH4VW|B001WOOC9S|     646797852|Composure for Med...|    Pet Products|          5|            1|          2|   Y|                N|Composure Soft Chews|These are great, ...|2015-08-24 00:00:00|\n",
            "|         US|   29531597|R2FU02XZTLL1W9|B00XV81DYU|     166392823|Purina Beyond Nat...|    Pet Products|          5|            1|          1|   Y|                N|Good dog food, go...|Dogs loved it.  I...|2015-08-23 00:00:00|\n",
            "|         US|   46187694|R1HDWNXNVI51SC|B00XV81DU4|     412783505|Purina Beyond Nat...|    Pet Products|          5|            6|          6|   Y|                N|  Delicious cat food|My nine-year-old ...|2015-08-23 00:00:00|\n",
            "|         US|   45905581| R9254MF51Y8WI|B00XKLCRAM|     458311255|Purina Beyond Nat...|    Pet Products|          5|            1|          2|   Y|                N|Dogs love love lo...|My doggies now be...|2015-08-23 00:00:00|\n",
            "|         US|   52756261| RU6LE191KGLRR|B00XV81DU4|     412783505|Purina Beyond Nat...|    Pet Products|          5|            5|          5|   Y|                N|Cats say - Yum, y...|Both our cats are...|2015-08-23 00:00:00|\n",
            "|         US|   13949557|R3QMJ7VCY8CA3W|B00XKLCRN4|     458311255|Purina Beyond Nat...|    Pet Products|          5|            1|          1|   Y|                N|   Great for a treat|I don't put this ...|2015-08-23 00:00:00|\n",
            "|         US|   52749952|R219NU5Y7ZYU3J|B00XV81DYU|     166392823|Purina Beyond Nat...|    Pet Products|          5|            1|          1|   Y|                N|Small kibbles and...|My yorkie-poo dug...|2015-08-22 00:00:00|\n",
            "+-----------+-----------+--------------+----------+--------------+--------------------+----------------+-----------+-------------+-----------+----+-----------------+--------------------+--------------------+-------------------+\n",
            "only showing top 20 rows\n",
            "\n"
          ]
        }
      ]
    },
    {
      "cell_type": "code",
      "source": [
        "# Count of data\n",
        "paid_star_rating_df.count()"
      ],
      "metadata": {
        "colab": {
          "base_uri": "https://localhost:8080/"
        },
        "id": "aiSxCIksh3ut",
        "outputId": "f5698d52-5099-4486-9bd0-3fc00949fc79"
      },
      "execution_count": 16,
      "outputs": [
        {
          "output_type": "execute_result",
          "data": {
            "text/plain": [
              "1704"
            ]
          },
          "metadata": {},
          "execution_count": 16
        }
      ]
    },
    {
      "cell_type": "code",
      "source": [
        "# Percentage of 5-star reviews paid\n",
        "percent_paid = (paid_star_rating_df.count()/paid_vine_df.count())*100\n",
        "print(\"Percentage of 5-star reviews for paid Vine program was: %f\" % percent_paid + \"%\")"
      ],
      "metadata": {
        "colab": {
          "base_uri": "https://localhost:8080/"
        },
        "id": "t8hH_G-lh8Kg",
        "outputId": "b1129cda-89b7-4e12-f166-f8f981a7d227"
      },
      "execution_count": 17,
      "outputs": [
        {
          "output_type": "stream",
          "name": "stdout",
          "text": [
            "Percentage of 5-star reviews for paid Vine program was: 41.530587%\n"
          ]
        }
      ]
    },
    {
      "cell_type": "code",
      "source": [
        "# Total number of 5-star reviews unpaid\n",
        "unpaid_star_rating_df = unpaid_vine_df.filter(col(\"star_rating\") == 5)\n",
        "unpaid_star_rating_df.count()"
      ],
      "metadata": {
        "colab": {
          "base_uri": "https://localhost:8080/"
        },
        "id": "u8ZJ6hE5iOjz",
        "outputId": "c5fb115e-f73f-474b-d8c4-92e99d784996"
      },
      "execution_count": 18,
      "outputs": [
        {
          "output_type": "execute_result",
          "data": {
            "text/plain": [
              "468620"
            ]
          },
          "metadata": {},
          "execution_count": 18
        }
      ]
    },
    {
      "cell_type": "code",
      "source": [
        "# Percentage of 5-star reviews unpaid\n",
        "percent_unpaid = (unpaid_star_rating_df.count()/unpaid_vine_df.count())*100\n",
        "print(\"Percentage of 5-star reviews for unpaid Vine program was: %f\" % percent_unpaid + \"%\")"
      ],
      "metadata": {
        "colab": {
          "base_uri": "https://localhost:8080/"
        },
        "id": "ddF6zJLqiWAF",
        "outputId": "56749da3-bcaf-4fbc-9312-0fc8b8eda282"
      },
      "execution_count": 19,
      "outputs": [
        {
          "output_type": "stream",
          "name": "stdout",
          "text": [
            "Percentage of 5-star reviews for unpaid Vine program was: 57.396355%\n"
          ]
        }
      ]
    }
  ]
}